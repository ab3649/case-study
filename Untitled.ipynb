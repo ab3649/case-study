{
 "cells": [
  {
   "cell_type": "markdown",
   "id": "afaac89d-c6d4-4442-bace-274e1e68fe28",
   "metadata": {},
   "source": [
    "1. Install RDFLib:"
   ]
  },
  {
   "cell_type": "code",
   "execution_count": 1,
   "id": "3f63b675-8bc2-47b3-b045-87f768973a17",
   "metadata": {},
   "outputs": [
    {
     "name": "stdout",
     "output_type": "stream",
     "text": [
      "Requirement already satisfied: rdflib in c:\\users\\anshu\\appdata\\local\\packages\\pythonsoftwarefoundation.python.3.11_qbz5n2kfra8p0\\localcache\\local-packages\\python311\\site-packages (7.0.0)\n",
      "Requirement already satisfied: isodate<0.7.0,>=0.6.0 in c:\\users\\anshu\\appdata\\local\\packages\\pythonsoftwarefoundation.python.3.11_qbz5n2kfra8p0\\localcache\\local-packages\\python311\\site-packages (from rdflib) (0.6.1)\n",
      "Requirement already satisfied: pyparsing<4,>=2.1.0 in c:\\users\\anshu\\appdata\\local\\packages\\pythonsoftwarefoundation.python.3.11_qbz5n2kfra8p0\\localcache\\local-packages\\python311\\site-packages\\pyparsing-2.4.7-py3.11.egg (from rdflib) (2.4.7)\n",
      "Requirement already satisfied: six in c:\\users\\anshu\\appdata\\local\\packages\\pythonsoftwarefoundation.python.3.11_qbz5n2kfra8p0\\localcache\\local-packages\\python311\\site-packages (from isodate<0.7.0,>=0.6.0->rdflib) (1.16.0)\n",
      "Note: you may need to restart the kernel to use updated packages.\n"
     ]
    },
    {
     "name": "stderr",
     "output_type": "stream",
     "text": [
      "DEPRECATION: Loading egg at c:\\users\\anshu\\appdata\\local\\packages\\pythonsoftwarefoundation.python.3.11_qbz5n2kfra8p0\\localcache\\local-packages\\python311\\site-packages\\avro_python3-1.10.2-py3.11.egg is deprecated. pip 24.3 will enforce this behaviour change. A possible replacement is to use pip for package installation.. Discussion can be found at https://github.com/pypa/pip/issues/12330\n",
      "DEPRECATION: Loading egg at c:\\users\\anshu\\appdata\\local\\packages\\pythonsoftwarefoundation.python.3.11_qbz5n2kfra8p0\\localcache\\local-packages\\python311\\site-packages\\contextlib2-21.6.0-py3.11.egg is deprecated. pip 24.3 will enforce this behaviour change. A possible replacement is to use pip for package installation.. Discussion can be found at https://github.com/pypa/pip/issues/12330\n",
      "DEPRECATION: Loading egg at c:\\users\\anshu\\appdata\\local\\packages\\pythonsoftwarefoundation.python.3.11_qbz5n2kfra8p0\\localcache\\local-packages\\python311\\site-packages\\cython-3.0.10-py3.11.egg is deprecated. pip 24.3 will enforce this behaviour change. A possible replacement is to use pip for package installation.. Discussion can be found at https://github.com/pypa/pip/issues/12330\n",
      "DEPRECATION: Loading egg at c:\\users\\anshu\\appdata\\local\\packages\\pythonsoftwarefoundation.python.3.11_qbz5n2kfra8p0\\localcache\\local-packages\\python311\\site-packages\\lvis-0.5.3-py3.11.egg is deprecated. pip 24.3 will enforce this behaviour change. A possible replacement is to use pip for package installation.. Discussion can be found at https://github.com/pypa/pip/issues/12330\n",
      "DEPRECATION: Loading egg at c:\\users\\anshu\\appdata\\local\\packages\\pythonsoftwarefoundation.python.3.11_qbz5n2kfra8p0\\localcache\\local-packages\\python311\\site-packages\\object_detection-0.1-py3.11.egg is deprecated. pip 24.3 will enforce this behaviour change. A possible replacement is to use pip for package installation.. Discussion can be found at https://github.com/pypa/pip/issues/12330\n",
      "DEPRECATION: Loading egg at c:\\users\\anshu\\appdata\\local\\packages\\pythonsoftwarefoundation.python.3.11_qbz5n2kfra8p0\\localcache\\local-packages\\python311\\site-packages\\portalocker-2.8.2-py3.11.egg is deprecated. pip 24.3 will enforce this behaviour change. A possible replacement is to use pip for package installation.. Discussion can be found at https://github.com/pypa/pip/issues/12330\n",
      "DEPRECATION: Loading egg at c:\\users\\anshu\\appdata\\local\\packages\\pythonsoftwarefoundation.python.3.11_qbz5n2kfra8p0\\localcache\\local-packages\\python311\\site-packages\\pycocotools-2.0.7-py3.11-win-amd64.egg is deprecated. pip 24.3 will enforce this behaviour change. A possible replacement is to use pip for package installation.. Discussion can be found at https://github.com/pypa/pip/issues/12330\n",
      "DEPRECATION: Loading egg at c:\\users\\anshu\\appdata\\local\\packages\\pythonsoftwarefoundation.python.3.11_qbz5n2kfra8p0\\localcache\\local-packages\\python311\\site-packages\\pyparsing-2.4.7-py3.11.egg is deprecated. pip 24.3 will enforce this behaviour change. A possible replacement is to use pip for package installation.. Discussion can be found at https://github.com/pypa/pip/issues/12330\n",
      "DEPRECATION: Loading egg at c:\\users\\anshu\\appdata\\local\\packages\\pythonsoftwarefoundation.python.3.11_qbz5n2kfra8p0\\localcache\\local-packages\\python311\\site-packages\\tabulate-0.9.0-py3.11.egg is deprecated. pip 24.3 will enforce this behaviour change. A possible replacement is to use pip for package installation.. Discussion can be found at https://github.com/pypa/pip/issues/12330\n",
      "DEPRECATION: Loading egg at c:\\users\\anshu\\appdata\\local\\packages\\pythonsoftwarefoundation.python.3.11_qbz5n2kfra8p0\\localcache\\local-packages\\python311\\site-packages\\tensorflow_io-0.31.0-py3.11-win-amd64.egg is deprecated. pip 24.3 will enforce this behaviour change. A possible replacement is to use pip for package installation.. Discussion can be found at https://github.com/pypa/pip/issues/12330\n",
      "DEPRECATION: Loading egg at c:\\users\\anshu\\appdata\\local\\packages\\pythonsoftwarefoundation.python.3.11_qbz5n2kfra8p0\\localcache\\local-packages\\python311\\site-packages\\tf_keras-2.16.0-py3.11.egg is deprecated. pip 24.3 will enforce this behaviour change. A possible replacement is to use pip for package installation.. Discussion can be found at https://github.com/pypa/pip/issues/12330\n",
      "DEPRECATION: Loading egg at c:\\users\\anshu\\appdata\\local\\packages\\pythonsoftwarefoundation.python.3.11_qbz5n2kfra8p0\\localcache\\local-packages\\python311\\site-packages\\tf_models_official-2.16.0-py3.11.egg is deprecated. pip 24.3 will enforce this behaviour change. A possible replacement is to use pip for package installation.. Discussion can be found at https://github.com/pypa/pip/issues/12330\n"
     ]
    }
   ],
   "source": [
    "pip install rdflib"
   ]
  },
  {
   "cell_type": "markdown",
   "id": "de4812df-c1db-4549-960d-7d09a0c0a30d",
   "metadata": {},
   "source": [
    "2. Create an RDF Graph:"
   ]
  },
  {
   "cell_type": "code",
   "execution_count": 4,
   "id": "ae98b68c-fdb2-4457-8ead-9b7372d0008b",
   "metadata": {},
   "outputs": [
    {
     "name": "stdout",
     "output_type": "stream",
     "text": [
      "@prefix rdfs: <http://www.w3.org/2000/01/rdf-schema#> .\n",
      "\n",
      "<http://example.org/Person> a rdfs:Class ;\n",
      "    rdfs:label \"Person\" .\n",
      "\n",
      "\n"
     ]
    }
   ],
   "source": [
    "from rdflib import Graph, URIRef, Literal, Namespace\n",
    "\n",
    "# Create a new RDF graph\n",
    "g = Graph()\n",
    "\n",
    "# Define namespaces\n",
    "ex = Namespace(\"http://example.org/\")\n",
    "rdf = Namespace(\"http://www.w3.org/1999/02/22-rdf-syntax-ns#\")\n",
    "rdfs = Namespace(\"http://www.w3.org/2000/01/rdf-schema#\")\n",
    "\n",
    "# Add triples to the graph\n",
    "g.add((ex.Person, rdf.type, rdfs.Class))\n",
    "g.add((ex.Person, rdfs.label, Literal(\"Person\")))\n",
    "\n",
    "# Serialize the graph\n",
    "print(g.serialize(format=\"turtle\"))\n"
   ]
  },
  {
   "cell_type": "markdown",
   "id": "ce4dba03-ff09-45f9-be77-3b226e4d618a",
   "metadata": {},
   "source": [
    "3. Load an Ontology"
   ]
  },
  {
   "cell_type": "code",
   "execution_count": 6,
   "id": "68e88101-4015-4f7c-b566-41370f766a98",
   "metadata": {},
   "outputs": [
    {
     "name": "stdout",
     "output_type": "stream",
     "text": [
      "http://www.semanticweb.org/ontology#Explanation2 http://www.semanticweb.org/hasBackgroundKnowledge http://www.semanticweb.org/ontology#BackgroundKnowledge2\n",
      "http://www.semanticweb.org/ontology#IdentifiedObject1 http://www.semanticweb.org/hasType OutdoorObject\n",
      "http://www.semanticweb.org/ontology#Explanation1 http://www.w3.org/1999/02/22-rdf-syntax-ns#type http://www.w3.org/2002/07/owl#NamedIndividual\n",
      "http://www.semanticweb.org/ontology#depictsScene http://www.w3.org/1999/02/22-rdf-syntax-ns#type http://www.w3.org/2002/07/owl#ObjectProperty\n",
      "http://www.semanticweb.org/ontology#Explanation2 http://www.w3.org/1999/02/22-rdf-syntax-ns#type http://www.w3.org/2002/07/owl#NamedIndividual\n",
      "http://www.semanticweb.org/ontology#NeuralNetworkExplanation http://www.w3.org/1999/02/22-rdf-syntax-ns#type http://www.w3.org/2002/07/owl#Class\n",
      "http://www.semanticweb.org/ontology#IndoorWarehouse http://www.w3.org/1999/02/22-rdf-syntax-ns#type http://www.w3.org/2002/07/owl#Class\n",
      "http://www.semanticweb.org/ontology#InputImage1 http://www.semanticweb.org/ontology#identifiesObject http://www.semanticweb.org/ontology#IdentifiedObject1\n",
      "http://www.semanticweb.org/ontology#Explanation1 http://www.semanticweb.org/hasBackgroundKnowledge http://www.semanticweb.org/ontology#BackgroundKnowledge1\n",
      "http://www.semanticweb.org/ontology#Explanation2 http://www.semanticweb.org/ontology#hasInputImage http://www.semanticweb.org/ontology#InputImage2\n",
      "http://www.semanticweb.org/ontology#IdentifiedObject1 http://www.semanticweb.org/hasName Tree\n",
      "http://www.semanticweb.org/ontology#BackgroundKnowledge1 http://www.w3.org/1999/02/22-rdf-syntax-ns#type http://www.w3.org/2002/07/owl#NamedIndividual\n",
      "http://www.semanticweb.org/ontology#InputImage1 http://www.w3.org/1999/02/22-rdf-syntax-ns#type http://www.w3.org/2002/07/owl#NamedIndividual\n",
      "http://www.semanticweb.org/ontology#hasName http://www.w3.org/1999/02/22-rdf-syntax-ns#type http://www.w3.org/2002/07/owl#DatatypeProperty\n",
      "http://www.semanticweb.org/ontology#IdentifiedObject2 http://www.w3.org/1999/02/22-rdf-syntax-ns#type http://www.w3.org/2002/07/owl#NamedIndividual\n",
      "http://www.semanticweb.org/ontology#Image http://www.w3.org/1999/02/22-rdf-syntax-ns#type http://www.w3.org/2002/07/owl#Class\n",
      "http://www.semanticweb.org/ontology#hasBackgroundKnowledge http://www.w3.org/1999/02/22-rdf-syntax-ns#type http://www.w3.org/2002/07/owl#ObjectProperty\n",
      "http://www.semanticweb.org/ontology#Object http://www.w3.org/1999/02/22-rdf-syntax-ns#type http://www.w3.org/2002/07/owl#Class\n",
      "http://www.semanticweb.org/ontology#InputImage2 http://www.semanticweb.org/identifiesObject http://www.semanticweb.org/ontology#IdentifiedObject2\n",
      "http://www.semanticweb.org/ontology#contains http://www.w3.org/1999/02/22-rdf-syntax-ns#type http://www.w3.org/2002/07/owl#ObjectProperty\n",
      "http://www.semanticweb.org/ontology#DepictedScene1 http://www.semanticweb.org/hasName OutdoorWarehouse\n",
      "http://www.semanticweb.org/ontology#Explanation2 http://www.semanticweb.org/hasInputImage http://www.semanticweb.org/ontology#InputImage2\n",
      "http://www.semanticweb.org/ontology#Scene http://www.w3.org/1999/02/22-rdf-syntax-ns#type http://www.w3.org/2002/07/owl#Class\n",
      "http://www.semanticweb.org/ontology#BackgroundKnowledge2 http://www.w3.org/1999/02/22-rdf-syntax-ns#type http://www.w3.org/2002/07/owl#NamedIndividual\n",
      "http://example.org/Person http://www.w3.org/1999/02/22-rdf-syntax-ns#type http://www.w3.org/2000/01/rdf-schema#Class\n",
      "http://www.semanticweb.org/ontology#Explanation1 http://www.semanticweb.org/ontology#hasInputImage http://www.semanticweb.org/ontology#InputImage1\n",
      "http://www.semanticweb.org/ontology#InputImage1 http://www.semanticweb.org/ontology#depictsScene http://www.semanticweb.org/ontology#DepictedScene1\n",
      "http://www.semanticweb.org/ontology#Explanation1 http://www.semanticweb.org/ontology#hasBackgroundKnowledge http://www.semanticweb.org/ontology#BackgroundKnowledge1\n",
      "http://www.semanticweb.org/ontology#DepictedScene1 http://www.w3.org/1999/02/22-rdf-syntax-ns#type http://www.w3.org/2002/07/owl#NamedIndividual\n",
      "http://www.semanticweb.org/ontology#OutdoorWarehouse http://www.w3.org/1999/02/22-rdf-syntax-ns#type http://www.w3.org/2002/07/owl#Class\n",
      "http://www.semanticweb.org/ontology#DepictedScene2 http://www.w3.org/1999/02/22-rdf-syntax-ns#type http://www.w3.org/2002/07/owl#NamedIndividual\n",
      "http://www.semanticweb.org/ontology#InputImage1 http://www.semanticweb.org/depictsScene http://www.semanticweb.org/ontology#DepictedScene1\n",
      "http://www.semanticweb.org/ontology#Explanation1 http://www.semanticweb.org/hasInputImage http://www.semanticweb.org/ontology#InputImage1\n",
      "http://www.semanticweb.org/ontology#BackgroundKnowledge http://www.w3.org/1999/02/22-rdf-syntax-ns#type http://www.w3.org/2002/07/owl#Class\n",
      "http://example.org/Person http://www.w3.org/2000/01/rdf-schema#label Person\n",
      "http://www.semanticweb.org/ontology#IdentifiedObject1 http://www.w3.org/1999/02/22-rdf-syntax-ns#type http://www.w3.org/2002/07/owl#NamedIndividual\n",
      "http://www.semanticweb.org/ontology#InputImage1 http://www.semanticweb.org/identifiesObject http://www.semanticweb.org/ontology#IdentifiedObject1\n",
      "http://www.semanticweb.org/ontology#WarehouseScene http://www.w3.org/1999/02/22-rdf-syntax-ns#type http://www.w3.org/2002/07/owl#Class\n",
      "http://www.semanticweb.org/ontology#Explanation2 http://www.semanticweb.org/ontology#hasBackgroundKnowledge http://www.semanticweb.org/ontology#BackgroundKnowledge2\n",
      "http://www.semanticweb.org/ontology#hasInputImage http://www.w3.org/1999/02/22-rdf-syntax-ns#type http://www.w3.org/2002/07/owl#ObjectProperty\n",
      "http://www.semanticweb.org/ontology#hasType http://www.w3.org/1999/02/22-rdf-syntax-ns#type http://www.w3.org/2002/07/owl#DatatypeProperty\n",
      "http://www.semanticweb.org/ontology#InputImage2 http://www.semanticweb.org/ontology#identifiesObject http://www.semanticweb.org/ontology#IdentifiedObject2\n",
      "http://www.semanticweb.org/ontology#InputImage2 http://www.w3.org/1999/02/22-rdf-syntax-ns#type http://www.w3.org/2002/07/owl#NamedIndividual\n",
      "http://www.semanticweb.org/ontology#identifiesObject http://www.w3.org/1999/02/22-rdf-syntax-ns#type http://www.w3.org/2002/07/owl#ObjectProperty\n"
     ]
    }
   ],
   "source": [
    "# Load an ontology from a file\n",
    "g.parse(\"ontology.owl\", format=\"xml\")\n",
    "\n",
    "# Query the graph\n",
    "for s, p, o in g:\n",
    "    print(s, p, o)\n"
   ]
  },
  {
   "cell_type": "markdown",
   "id": "06f42209-a6bd-4c9a-bab2-26803ae896bc",
   "metadata": {},
   "source": [
    "4. Query the Graph:"
   ]
  },
  {
   "cell_type": "code",
   "execution_count": 7,
   "id": "c364dd72-7d02-4b50-86c9-4fdfc58145da",
   "metadata": {},
   "outputs": [
    {
     "name": "stdout",
     "output_type": "stream",
     "text": [
      "http://example.org/Person\n",
      "http://www.w3.org/1999/02/22-rdf-syntax-ns#type http://www.w3.org/2000/01/rdf-schema#Class\n",
      "http://www.w3.org/2000/01/rdf-schema#label Person\n"
     ]
    }
   ],
   "source": [
    "# Query for all classes in the ontology\n",
    "for class_uri in g.subjects(rdf.type, rdfs.Class):\n",
    "    print(class_uri)\n",
    "\n",
    "# Query for properties of a specific class\n",
    "for prop, label in g.predicate_objects(ex.Person):\n",
    "    print(prop, label)\n"
   ]
  },
  {
   "cell_type": "markdown",
   "id": "9f633808-b326-4c22-99ea-15c0e6b6614b",
   "metadata": {},
   "source": [
    "5. Extend and Modify the Graph:"
   ]
  },
  {
   "cell_type": "code",
   "execution_count": 9,
   "id": "f7449c14-3efe-4395-b0c4-a5a30991b015",
   "metadata": {},
   "outputs": [
    {
     "name": "stdout",
     "output_type": "stream",
     "text": [
      "@prefix : <http://www.semanticweb.org/ontology#> .\n",
      "@prefix ns1: <http://example.org/> .\n",
      "@prefix ns2: <http://www.semanticweb.org/> .\n",
      "@prefix owl: <http://www.w3.org/2002/07/owl#> .\n",
      "@prefix rdfs: <http://www.w3.org/2000/01/rdf-schema#> .\n",
      "@prefix xsd: <http://www.w3.org/2001/XMLSchema#> .\n",
      "\n",
      "ns1:Person a rdfs:Class ;\n",
      "    rdfs:label \"Person\" ;\n",
      "    ns1:hasName \"John Doe\" .\n",
      "\n",
      ":BackgroundKnowledge a owl:Class .\n",
      "\n",
      ":DepictedScene2 a owl:NamedIndividual .\n",
      "\n",
      ":Explanation1 a owl:NamedIndividual ;\n",
      "    ns2:hasBackgroundKnowledge :BackgroundKnowledge1 ;\n",
      "    ns2:hasInputImage :InputImage1 ;\n",
      "    :hasBackgroundKnowledge :BackgroundKnowledge1 ;\n",
      "    :hasInputImage :InputImage1 .\n",
      "\n",
      ":Explanation2 a owl:NamedIndividual ;\n",
      "    ns2:hasBackgroundKnowledge :BackgroundKnowledge2 ;\n",
      "    ns2:hasInputImage :InputImage2 ;\n",
      "    :hasBackgroundKnowledge :BackgroundKnowledge2 ;\n",
      "    :hasInputImage :InputImage2 .\n",
      "\n",
      ":Image a owl:Class .\n",
      "\n",
      ":IndoorWarehouse a owl:Class .\n",
      "\n",
      ":NeuralNetworkExplanation a owl:Class .\n",
      "\n",
      ":Object a owl:Class .\n",
      "\n",
      ":OutdoorWarehouse a owl:Class .\n",
      "\n",
      ":Scene a owl:Class .\n",
      "\n",
      ":WarehouseScene a owl:Class .\n",
      "\n",
      ":contains a owl:ObjectProperty .\n",
      "\n",
      ":depictsScene a owl:ObjectProperty .\n",
      "\n",
      ":hasBackgroundKnowledge a owl:ObjectProperty .\n",
      "\n",
      ":hasInputImage a owl:ObjectProperty .\n",
      "\n",
      ":hasName a owl:DatatypeProperty .\n",
      "\n",
      ":hasType a owl:DatatypeProperty .\n",
      "\n",
      ":identifiesObject a owl:ObjectProperty .\n",
      "\n",
      ":BackgroundKnowledge1 a owl:NamedIndividual .\n",
      "\n",
      ":BackgroundKnowledge2 a owl:NamedIndividual .\n",
      "\n",
      ":DepictedScene1 a owl:NamedIndividual ;\n",
      "    ns2:hasName \"OutdoorWarehouse\"^^xsd:string .\n",
      "\n",
      ":IdentifiedObject1 a owl:NamedIndividual ;\n",
      "    ns2:hasName \"Tree\"^^xsd:string ;\n",
      "    ns2:hasType \"OutdoorObject\"^^xsd:string .\n",
      "\n",
      ":IdentifiedObject2 a owl:NamedIndividual .\n",
      "\n",
      ":InputImage1 a owl:NamedIndividual ;\n",
      "    ns2:depictsScene :DepictedScene1 ;\n",
      "    ns2:identifiesObject :IdentifiedObject1 ;\n",
      "    :depictsScene :DepictedScene1 ;\n",
      "    :identifiesObject :IdentifiedObject1 .\n",
      "\n",
      ":InputImage2 a owl:NamedIndividual ;\n",
      "    ns2:identifiesObject :IdentifiedObject2 ;\n",
      "    :identifiesObject :IdentifiedObject2 .\n",
      "\n",
      "\n"
     ]
    }
   ],
   "source": [
    "# Add new triples to the graph\n",
    "g.add((ex.Person, ex.hasAge, Literal(\"30\")))\n",
    "g.add((ex.Person, ex.hasName, Literal(\"John Doe\")))\n",
    "\n",
    "# Remove triples from the graph\n",
    "g.remove((ex.Person, ex.hasAge, Literal(\"30\")))\n",
    "\n",
    "# Serialize the modified graph\n",
    "\n",
    "print(g.serialize(format=\"turtle\"))\n"
   ]
  },
  {
   "cell_type": "code",
   "execution_count": null,
   "id": "a3b311ff-c327-45a3-9608-069957748818",
   "metadata": {},
   "outputs": [],
   "source": []
  }
 ],
 "metadata": {
  "kernelspec": {
   "display_name": "Python 3 (ipykernel)",
   "language": "python",
   "name": "python3"
  },
  "language_info": {
   "codemirror_mode": {
    "name": "ipython",
    "version": 3
   },
   "file_extension": ".py",
   "mimetype": "text/x-python",
   "name": "python",
   "nbconvert_exporter": "python",
   "pygments_lexer": "ipython3",
   "version": "3.11.9"
  }
 },
 "nbformat": 4,
 "nbformat_minor": 5
}
